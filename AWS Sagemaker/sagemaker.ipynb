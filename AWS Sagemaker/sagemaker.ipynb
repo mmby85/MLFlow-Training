{
 "cells": [
  {
   "cell_type": "code",
   "execution_count": 2,
   "metadata": {},
   "outputs": [
    {
     "name": "stderr",
     "output_type": "stream",
     "text": [
      "/home/mmby/Freelance/mlflow_project/venv/lib/python3.10/site-packages/pydantic/_internal/_fields.py:192: UserWarning: Field name \"json\" in \"MonitoringDatasetFormat\" shadows an attribute in parent \"Base\"\n",
      "  warnings.warn(\n"
     ]
    },
    {
     "name": "stdout",
     "output_type": "stream",
     "text": [
      "sagemaker.config INFO - Not applying SDK defaults from location: /home/mmby/.config/kdedefaults/sagemaker/config.yaml\n",
      "sagemaker.config INFO - Not applying SDK defaults from location: /home/mmby/.config/sagemaker/config.yaml\n"
     ]
    },
    {
     "data": {
      "text/html": [
       "<pre style=\"white-space:pre;overflow-x:auto;line-height:normal;font-family:Menlo,'DejaVu Sans Mono',consolas,'Courier New',monospace\"><span style=\"color: #7fbfbf; text-decoration-color: #7fbfbf\">[12/18/24 10:16:58] </span><span style=\"color: #0069ff; text-decoration-color: #0069ff; font-weight: bold\">INFO    </span> Found credentials in environment variables.                        <a href=\"file:///home/mmby/Freelance/mlflow_project/venv/lib/python3.10/site-packages/botocore/credentials.py\" target=\"_blank\"><span style=\"color: #7f7f7f; text-decoration-color: #7f7f7f\">credentials.py</span></a><span style=\"color: #7f7f7f; text-decoration-color: #7f7f7f\">:</span><a href=\"file:///home/mmby/Freelance/mlflow_project/venv/lib/python3.10/site-packages/botocore/credentials.py#1147\" target=\"_blank\"><span style=\"color: #7f7f7f; text-decoration-color: #7f7f7f\">1147</span></a>\n",
       "</pre>\n"
      ],
      "text/plain": [
       "\u001b[2;36m[12/18/24 10:16:58]\u001b[0m\u001b[2;36m \u001b[0m\u001b[1;38;2;0;105;255mINFO    \u001b[0m Found credentials in environment variables.                        \u001b]8;id=559154;file:///home/mmby/Freelance/mlflow_project/venv/lib/python3.10/site-packages/botocore/credentials.py\u001b\\\u001b[2mcredentials.py\u001b[0m\u001b]8;;\u001b\\\u001b[2m:\u001b[0m\u001b]8;id=768277;file:///home/mmby/Freelance/mlflow_project/venv/lib/python3.10/site-packages/botocore/credentials.py#1147\u001b\\\u001b[2m1147\u001b[0m\u001b]8;;\u001b\\\n"
      ]
     },
     "metadata": {},
     "output_type": "display_data"
    }
   ],
   "source": [
    "import boto3\n",
    "import sagemaker\n",
    "from sagemaker.sklearn import SKLearn\n",
    "from sagemaker.session import Session\n",
    "import mlflow\n",
    "import mlflow.sklearn\n",
    "import os\n",
    "\n",
    "\n",
    "os.environ[\"AWS_ACCESS_KEY_ID\"]=\"\"\n",
    "os.environ[\"AWS_SECRET_ACCESS_KEY\"]=\"\"\n",
    "os.environ[\"AWS_DEFAULT_REGION\"]=\"\"\n",
    "\n",
    "\n",
    "# Configurations AWS et MLflow\n",
    "aws_region =  region_name = \"eu-north-1\"  # Ex: us-east-1\n",
    "bucket_name =   \"formation-mlflow\"\n",
    "role_arn = \"arn:aws:iam::390403854070:role/mlflow\"\n",
    "role_arn = role=\"arn:aws:iam::622333992348:role/service-role/AmazonSageMaker-ExecutionRole-20241206T115846\"\n",
    "mlflow_tracking_uri = \"http://13.51.140.113:5000\"  # URL de votre serveur MLflow (remplacez si besoin)\n",
    "\n",
    "mlflow.set_tracking_uri(mlflow_tracking_uri)\n",
    "\n",
    "\n",
    "# Initialisation des sessions AWS et SageMaker\n",
    "boto_session = boto3.Session(region_name=aws_region)\n",
    "sagemaker_session = sagemaker.Session(boto_session=boto_session, default_bucket=bucket_name)\n",
    "\n"
   ]
  }
 ],
 "metadata": {
  "kernelspec": {
   "display_name": "venv",
   "language": "python",
   "name": "python3"
  },
  "language_info": {
   "codemirror_mode": {
    "name": "ipython",
    "version": 3
   },
   "file_extension": ".py",
   "mimetype": "text/x-python",
   "name": "python",
   "nbconvert_exporter": "python",
   "pygments_lexer": "ipython3",
   "version": "3.10.12"
  }
 },
 "nbformat": 4,
 "nbformat_minor": 2
}
