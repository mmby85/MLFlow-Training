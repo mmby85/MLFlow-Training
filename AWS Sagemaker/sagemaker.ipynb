{
 "cells": [
  {
   "cell_type": "code",
   "execution_count": 2,
   "metadata": {},
   "outputs": [
    {
     "name": "stderr",
     "output_type": "stream",
     "text": [
      "/home/mmby/Freelance/mlflow_project/venv/lib/python3.10/site-packages/pydantic/_internal/_fields.py:192: UserWarning: Field name \"json\" in \"MonitoringDatasetFormat\" shadows an attribute in parent \"Base\"\n",
      "  warnings.warn(\n"
     ]
    },
    {
     "name": "stdout",
     "output_type": "stream",
     "text": [
      "sagemaker.config INFO - Not applying SDK defaults from location: /home/mmby/.config/kdedefaults/sagemaker/config.yaml\n",
      "sagemaker.config INFO - Not applying SDK defaults from location: /home/mmby/.config/sagemaker/config.yaml\n"
     ]
    },
    {
     "data": {
      "text/html": [
       "<pre style=\"white-space:pre;overflow-x:auto;line-height:normal;font-family:Menlo,'DejaVu Sans Mono',consolas,'Courier New',monospace\"><span style=\"color: #7fbfbf; text-decoration-color: #7fbfbf\">[12/18/24 10:16:58] </span><span style=\"color: #0069ff; text-decoration-color: #0069ff; font-weight: bold\">INFO    </span> Found credentials in environment variables.                        <a href=\"file:///home/mmby/Freelance/mlflow_project/venv/lib/python3.10/site-packages/botocore/credentials.py\" target=\"_blank\"><span style=\"color: #7f7f7f; text-decoration-color: #7f7f7f\">credentials.py</span></a><span style=\"color: #7f7f7f; text-decoration-color: #7f7f7f\">:</span><a href=\"file:///home/mmby/Freelance/mlflow_project/venv/lib/python3.10/site-packages/botocore/credentials.py#1147\" target=\"_blank\"><span style=\"color: #7f7f7f; text-decoration-color: #7f7f7f\">1147</span></a>\n",
       "</pre>\n"
      ],
      "text/plain": [
       "\u001b[2;36m[12/18/24 10:16:58]\u001b[0m\u001b[2;36m \u001b[0m\u001b[1;38;2;0;105;255mINFO    \u001b[0m Found credentials in environment variables.                        \u001b]8;id=559154;file:///home/mmby/Freelance/mlflow_project/venv/lib/python3.10/site-packages/botocore/credentials.py\u001b\\\u001b[2mcredentials.py\u001b[0m\u001b]8;;\u001b\\\u001b[2m:\u001b[0m\u001b]8;id=768277;file:///home/mmby/Freelance/mlflow_project/venv/lib/python3.10/site-packages/botocore/credentials.py#1147\u001b\\\u001b[2m1147\u001b[0m\u001b]8;;\u001b\\\n"
      ]
     },
     "metadata": {},
     "output_type": "display_data"
    }
   ],
   "source": [
    "import boto3\n",
    "import sagemaker\n",
    "from sagemaker.sklearn import SKLearn\n",
    "from sagemaker.session import Session\n",
    "import mlflow\n",
    "import mlflow.sklearn\n",
    "import os\n",
    "\n",
    "\n",
    "os.environ[\"AWS_ACCESS_KEY_ID\"]=\"\"\n",
    "os.environ[\"AWS_SECRET_ACCESS_KEY\"]=\"\"\n",
    "os.environ[\"AWS_DEFAULT_REGION\"]=\"\"\n",
    "\n",
    "\n",
    "# Configurations AWS et MLflow\n",
    "aws_region =  region_name = \"eu-north-1\"  # Ex: us-east-1\n",
    "bucket_name =   \"formation-mlflow\"\n",
    "role_arn = \"arn:aws:iam::390403854070:role/mlflow\"\n",
    "role_arn = role=\"arn:aws:iam::622333992348:role/service-role/AmazonSageMaker-ExecutionRole-20241206T115846\"\n",
    "mlflow_tracking_uri = \"http://13.51.140.113:5000\"  # URL de votre serveur MLflow (remplacez si besoin)\n",
    "\n",
    "mlflow.set_tracking_uri(mlflow_tracking_uri)\n",
    "\n",
    "\n",
    "# Initialisation des sessions AWS et SageMaker\n",
    "boto_session = boto3.Session(region_name=aws_region)\n",
    "sagemaker_session = sagemaker.Session(boto_session=boto_session, default_bucket=bucket_name)\n",
    "\n"
   ]
  },
  {
   "cell_type": "code",
   "execution_count": 4,
   "metadata": {},
   "outputs": [
    {
     "name": "stdout",
     "output_type": "stream",
     "text": [
      "Writing script.py\n"
     ]
    }
   ],
   "source": [
    "%%writefile script.py\n",
    "\n",
    "import argparse\n",
    "import os\n",
    "import joblib\n",
    "import numpy as np\n",
    "import pandas as pd\n",
    "from sklearn.ensemble import RandomForestRegressor \n",
    "from sklearn.metrics import mean_squared_error \n",
    "from sklearn.model_selection import train_test_split \n",
    "from sklearn.datasets import fetch_california_housing\n",
    "\n",
    "if __name__ == \"__main__\":\n",
    "    print(\"extracting arguments\")\n",
    "    parser = argparse.ArgumentParser()\n",
    "\n",
    "    # Hyperparameters sent by the client are passed as command-line arguments to the script.\n",
    "    parser.add_argument(\"--n-estimators\", type=int, default=100) # Increased default\n",
    "    parser.add_argument(\"--min-samples-leaf\", type=int, default=2) # Increased default\n",
    "\n",
    "    # Data, model, and output directories\n",
    "    parser.add_argument(\"--model-dir\", type=str, default=os.environ.get(\"SM_MODEL_DIR\"))\n",
    "    parser.add_argument(\"--train\", type=str, default=os.environ.get(\"SM_CHANNEL_TRAIN\")) # No longer used\n",
    "    parser.add_argument(\"--test\", type=str, default=os.environ.get(\"SM_CHANNEL_TEST\")) # No longer used\n",
    "    parser.add_argument(\"--train-file\", type=str, default=\"california-housing-train.csv\") # Changed filename\n",
    "    parser.add_argument(\"--test-file\", type=str, default=\"california-housing-test.csv\") # Changed filename\n",
    "\n",
    "    args, _ = parser.parse_known_args()\n",
    "    \n",
    "    print(\"loading and preparing data\")\n",
    "\n",
    "    # Load the dataset directly.\n",
    "    housing = fetch_california_housing(as_frame=True)\n",
    "    housing_df = pd.DataFrame(housing.frame)\n",
    "\n",
    "    # Split the data into training and testing sets\n",
    "    train_df, test_df = train_test_split(housing_df, test_size=0.2, random_state=42) # added train test split.\n",
    "\n",
    "    print(\"saving training and testing datasets\")\n",
    "\n",
    "    # Save the training and testing data as CSVs in respective channels.\n",
    "    # train_path = os.path.join(args.train, args.train_file)\n",
    "    # test_path = os.path.join(args.test, args.test_file)\n",
    "    train_df.to_csv(\"california-housing-train.csv\", index=False)\n",
    "    test_df.to_csv(\"california-housing-test.csv\", index=False)\n",
    "\n",
    "    # print(f\"training data persisted at {train_path}\")\n",
    "    # print(f\"test data persisted at {test_path}\")\n",
    "\n",
    "    print(\"building training and testing datasets\")\n",
    "\n",
    "    # Prepare the training and testing datasets\n",
    "    X_train = train_df.drop(\"MedHouseVal\", axis=1)\n",
    "    X_test = test_df.drop(\"MedHouseVal\", axis=1)\n",
    "    y_train = train_df[[\"MedHouseVal\"]]\n",
    "    y_test = test_df[[\"MedHouseVal\"]]\n",
    "\n",
    "    # Train model\n",
    "    print(\"training model\")\n",
    "\n",
    "    model = RandomForestRegressor(\n",
    "        n_estimators=args.n_estimators,\n",
    "        min_samples_leaf=args.min_samples_leaf,\n",
    "        n_jobs=-1,\n",
    "        random_state=42,\n",
    "    )\n",
    "\n",
    "    model.fit(X_train, y_train.values.ravel()) # using .values.ravel() to get the 1d array\n",
    "\n",
    "    # Print MSE\n",
    "    print(\"validating model\")\n",
    "\n",
    "    mse_train = mean_squared_error(y_train, model.predict(X_train))\n",
    "    mse_test = mean_squared_error(y_test, model.predict(X_test))\n",
    "\n",
    "    print(f\"Train MSE: {mse_train:.3f}\")\n",
    "    print(f\"Test MSE: {mse_test:.3f}\")\n",
    "\n",
    "    # Persist model\n",
    "    path = os.path.join(args.model_dir, \"model.joblib\")\n",
    "    joblib.dump(model, path)\n",
    "    print(\"model persisted at \" + path)"
   ]
  },
  {
   "cell_type": "code",
   "execution_count": null,
   "metadata": {},
   "outputs": [],
   "source": []
  },
  {
   "cell_type": "code",
   "execution_count": 8,
   "metadata": {},
   "outputs": [
    {
     "data": {
      "text/html": [
       "<pre style=\"white-space:pre;overflow-x:auto;line-height:normal;font-family:Menlo,'DejaVu Sans Mono',consolas,'Courier New',monospace\"><span style=\"color: #7fbfbf; text-decoration-color: #7fbfbf\">[12/18/24 11:09:57] </span><span style=\"color: #0069ff; text-decoration-color: #0069ff; font-weight: bold\">INFO    </span> SageMaker Python SDK will collect telemetry to help us better  <a href=\"file:///home/mmby/Freelance/mlflow_project/venv/lib/python3.10/site-packages/sagemaker/telemetry/telemetry_logging.py\" target=\"_blank\"><span style=\"color: #7f7f7f; text-decoration-color: #7f7f7f\">telemetry_logging.py</span></a><span style=\"color: #7f7f7f; text-decoration-color: #7f7f7f\">:</span><a href=\"file:///home/mmby/Freelance/mlflow_project/venv/lib/python3.10/site-packages/sagemaker/telemetry/telemetry_logging.py#90\" target=\"_blank\"><span style=\"color: #7f7f7f; text-decoration-color: #7f7f7f\">90</span></a>\n",
       "<span style=\"color: #7fbfbf; text-decoration-color: #7fbfbf\">                    </span>         understand our user's needs, diagnose issues, and deliver      <span style=\"color: #7f7f7f; text-decoration-color: #7f7f7f\">                       </span>\n",
       "<span style=\"color: #7fbfbf; text-decoration-color: #7fbfbf\">                    </span>         additional features.                                           <span style=\"color: #7f7f7f; text-decoration-color: #7f7f7f\">                       </span>\n",
       "<span style=\"color: #7fbfbf; text-decoration-color: #7fbfbf\">                    </span>         To opt out of telemetry, please disable via TelemetryOptOut    <span style=\"color: #7f7f7f; text-decoration-color: #7f7f7f\">                       </span>\n",
       "<span style=\"color: #7fbfbf; text-decoration-color: #7fbfbf\">                    </span>         parameter in SDK defaults config. For more information, refer  <span style=\"color: #7f7f7f; text-decoration-color: #7f7f7f\">                       </span>\n",
       "<span style=\"color: #7fbfbf; text-decoration-color: #7fbfbf\">                    </span>         to                                                             <span style=\"color: #7f7f7f; text-decoration-color: #7f7f7f\">                       </span>\n",
       "<span style=\"color: #7fbfbf; text-decoration-color: #7fbfbf\">                    </span>         <span style=\"color: #0069ff; text-decoration-color: #0069ff; text-decoration: underline\">https://sagemaker.readthedocs.io/en/stable/overview.html#confi</span> <span style=\"color: #7f7f7f; text-decoration-color: #7f7f7f\">                       </span>\n",
       "<span style=\"color: #7fbfbf; text-decoration-color: #7fbfbf\">                    </span>         <span style=\"color: #0069ff; text-decoration-color: #0069ff; text-decoration: underline\">guring-and-using-defaults-with-the-sagemaker-python-sdk.</span>       <span style=\"color: #7f7f7f; text-decoration-color: #7f7f7f\">                       </span>\n",
       "</pre>\n"
      ],
      "text/plain": [
       "\u001b[2;36m[12/18/24 11:09:57]\u001b[0m\u001b[2;36m \u001b[0m\u001b[1;38;2;0;105;255mINFO    \u001b[0m SageMaker Python SDK will collect telemetry to help us better  \u001b]8;id=728901;file:///home/mmby/Freelance/mlflow_project/venv/lib/python3.10/site-packages/sagemaker/telemetry/telemetry_logging.py\u001b\\\u001b[2mtelemetry_logging.py\u001b[0m\u001b]8;;\u001b\\\u001b[2m:\u001b[0m\u001b]8;id=993443;file:///home/mmby/Freelance/mlflow_project/venv/lib/python3.10/site-packages/sagemaker/telemetry/telemetry_logging.py#90\u001b\\\u001b[2m90\u001b[0m\u001b]8;;\u001b\\\n",
       "\u001b[2;36m                    \u001b[0m         understand our user's needs, diagnose issues, and deliver      \u001b[2m                       \u001b[0m\n",
       "\u001b[2;36m                    \u001b[0m         additional features.                                           \u001b[2m                       \u001b[0m\n",
       "\u001b[2;36m                    \u001b[0m         To opt out of telemetry, please disable via TelemetryOptOut    \u001b[2m                       \u001b[0m\n",
       "\u001b[2;36m                    \u001b[0m         parameter in SDK defaults config. For more information, refer  \u001b[2m                       \u001b[0m\n",
       "\u001b[2;36m                    \u001b[0m         to                                                             \u001b[2m                       \u001b[0m\n",
       "\u001b[2;36m                    \u001b[0m         \u001b[4;38;2;0;105;255mhttps://sagemaker.readthedocs.io/en/stable/overview.html#confi\u001b[0m \u001b[2m                       \u001b[0m\n",
       "\u001b[2;36m                    \u001b[0m         \u001b[4;38;2;0;105;255mguring-and-using-defaults-with-the-sagemaker-python-sdk.\u001b[0m       \u001b[2m                       \u001b[0m\n"
      ]
     },
     "metadata": {},
     "output_type": "display_data"
    },
    {
     "data": {
      "text/html": [
       "<pre style=\"white-space:pre;overflow-x:auto;line-height:normal;font-family:Menlo,'DejaVu Sans Mono',consolas,'Courier New',monospace\"><span style=\"color: #7fbfbf; text-decoration-color: #7fbfbf\">[12/18/24 11:09:58] </span><span style=\"color: #0069ff; text-decoration-color: #0069ff; font-weight: bold\">INFO    </span> Creating training-job with name:                                       <a href=\"file:///home/mmby/Freelance/mlflow_project/venv/lib/python3.10/site-packages/sagemaker/session.py\" target=\"_blank\"><span style=\"color: #7f7f7f; text-decoration-color: #7f7f7f\">session.py</span></a><span style=\"color: #7f7f7f; text-decoration-color: #7f7f7f\">:</span><a href=\"file:///home/mmby/Freelance/mlflow_project/venv/lib/python3.10/site-packages/sagemaker/session.py#1042\" target=\"_blank\"><span style=\"color: #7f7f7f; text-decoration-color: #7f7f7f\">1042</span></a>\n",
       "<span style=\"color: #7fbfbf; text-decoration-color: #7fbfbf\">                    </span>         sagemaker-scikit-learn-<span style=\"color: #008080; text-decoration-color: #008080; font-weight: bold\">2024</span>-12-18-10-09-57-804                         <span style=\"color: #7f7f7f; text-decoration-color: #7f7f7f\">               </span>\n",
       "</pre>\n"
      ],
      "text/plain": [
       "\u001b[2;36m[12/18/24 11:09:58]\u001b[0m\u001b[2;36m \u001b[0m\u001b[1;38;2;0;105;255mINFO    \u001b[0m Creating training-job with name:                                       \u001b]8;id=783670;file:///home/mmby/Freelance/mlflow_project/venv/lib/python3.10/site-packages/sagemaker/session.py\u001b\\\u001b[2msession.py\u001b[0m\u001b]8;;\u001b\\\u001b[2m:\u001b[0m\u001b]8;id=236805;file:///home/mmby/Freelance/mlflow_project/venv/lib/python3.10/site-packages/sagemaker/session.py#1042\u001b\\\u001b[2m1042\u001b[0m\u001b]8;;\u001b\\\n",
       "\u001b[2;36m                    \u001b[0m         sagemaker-scikit-learn-\u001b[1;36m2024\u001b[0m-12-18-10-09-57-804                         \u001b[2m               \u001b[0m\n"
      ]
     },
     "metadata": {},
     "output_type": "display_data"
    },
    {
     "name": "stdout",
     "output_type": "stream",
     "text": [
      "2024-12-18 10:10:00 Starting - Starting the training job...\n",
      "2024-12-18 10:10:15 Starting - Preparing the instances for training...\n",
      "2024-12-18 10:11:04 Downloading - Downloading the training image..."
     ]
    }
   ],
   "source": [
    "from sklearn.datasets import fetch_california_housing\n",
    "import pandas as pd\n",
    "\n",
    "housing = fetch_california_housing(as_frame=True)\n",
    "housing_data = pd.DataFrame(housing.frame)\n",
    "\n",
    "housing_data.to_csv(\"data/california_housing.csv\")\n",
    "\n",
    "# Configuration de MLflow\n",
    "mlflow.set_experiment(\"SageMaker_MLflow_Experiment\")\n",
    "\n",
    "\n",
    "# Définir les hyperparamètres du modèle\n",
    "hyperparameters = {\n",
    "    \"max_depth\": 4,\n",
    "    \"n_estimators\": 120,\n",
    "    \"random_state\": 42\n",
    "}\n",
    "\n",
    "# Chemin du script d'entraînement local (uploadé dans SageMaker)\n",
    "script_path = \"script.py\"  # Assurez-vous que ce fichier existe (voir ci-dessous)\n",
    "\n",
    "# Configuration de l'estimateur SageMaker pour Scikit-learn\n",
    "estimator = SKLearn(\n",
    "    entry_point=script_path,\n",
    "    framework_version=\"1.0-1\",\n",
    "    instance_type=\"ml.m5.large\",\n",
    "    instance_count=1,\n",
    "    role=role_arn,\n",
    "    hyperparameters=hyperparameters,\n",
    "    sagemaker_session=sagemaker_session,\n",
    ")\n",
    "\n",
    "# Lancer l'expérience MLflow\n",
    "with mlflow.start_run(run_name=\"sagemaker-randomForest\") as run:\n",
    "    # Enregistrement des hyperparamètres dans MLflow\n",
    "    mlflow.log_params(hyperparameters)\n",
    "\n",
    "    # Lancer l'entraînement SageMaker\n",
    "    train_input = f\"s3://{bucket_name}/train_data/\"\n",
    "    estimator.fit({\"train\": train_input}, wait=True)\n",
    "\n",
    "    # Enregistrement du modèle dans MLflow\n",
    "    model_uri = estimator.model_data  # Chemin S3 du modèle entraîné\n",
    "    model_local_path = \"model.tar.gz\"\n",
    "    # os.system(f\"aws s3 cp {model_uri} {model_local_path}\")  # Télécharger le modèle localement\n",
    "    \n",
    "    # Chargement du modèle entraîné\n",
    "    mlflow.sklearn.log_model(model_uri=model_uri, artifact_path=\"model\")\n",
    "\n",
    "    # Enregistrement des métriques (exemple fictif)\n",
    "    mlflow.log_metric(\"accuracy\", 0.95)  # Remplacez par vos métriques réelles\n",
    "    mlflow.log_metric(\"precision\", 0.93)\n",
    "    mlflow.log_metric(\"recall\", 0.92)\n",
    "\n",
    "    print(f\"Run ID: {run.info.run_id}\")\n",
    "\n"
   ]
  },
  {
   "cell_type": "code",
   "execution_count": 6,
   "metadata": {},
   "outputs": [
    {
     "data": {
      "text/plain": [
       "'s3://formation-mlflow/sagemaker-scikit-learn-2024-12-18-09-31-37-559/output/model.tar.gz'"
      ]
     },
     "execution_count": 6,
     "metadata": {},
     "output_type": "execute_result"
    }
   ],
   "source": [
    "model_uri"
   ]
  },
  {
   "cell_type": "code",
   "execution_count": 7,
   "metadata": {},
   "outputs": [
    {
     "data": {
      "text/plain": [
       "'model.tar.gz'"
      ]
     },
     "execution_count": 7,
     "metadata": {},
     "output_type": "execute_result"
    }
   ],
   "source": [
    "model_local_path"
   ]
  },
  {
   "cell_type": "code",
   "execution_count": null,
   "metadata": {},
   "outputs": [],
   "source": []
  }
 ],
 "metadata": {
  "kernelspec": {
   "display_name": "venv",
   "language": "python",
   "name": "python3"
  },
  "language_info": {
   "codemirror_mode": {
    "name": "ipython",
    "version": 3
   },
   "file_extension": ".py",
   "mimetype": "text/x-python",
   "name": "python",
   "nbconvert_exporter": "python",
   "pygments_lexer": "ipython3",
   "version": "3.10.12"
  }
 },
 "nbformat": 4,
 "nbformat_minor": 2
}
