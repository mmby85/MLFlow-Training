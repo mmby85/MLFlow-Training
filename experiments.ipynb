{
 "cells": [
  {
   "cell_type": "code",
   "execution_count": 1,
   "metadata": {},
   "outputs": [],
   "source": [
    "import pandas as pd\n",
    "import mlflow\n",
    "import mlflow.sklearn\n",
    "from sklearn.ensemble import RandomForestRegressor\n",
    "from sklearn.metrics import mean_squared_error\n",
    "from sklearn.model_selection import train_test_split\n",
    "from sklearn.datasets import load_diabetes\n",
    "\n",
    "mlflow.set_tracking_uri('http://13.51.140.113:5000/')\n"
   ]
  },
  {
   "cell_type": "code",
   "execution_count": 3,
   "metadata": {},
   "outputs": [],
   "source": [
    "# Load data\n",
    "data = load_diabetes()\n",
    "X_train, X_test, y_train, y_test = train_test_split(data.data, data.target, test_size=0.2, random_state=42)\n",
    "\n",
    "# Train a simple model\n",
    "n_estimators=15\n",
    "random_state=32\n",
    "\n",
    "model = RandomForestRegressor(n_estimators=n_estimators, random_state=random_state)\n",
    "model.fit(X_train, y_train)\n",
    "\n",
    "# Make predictions and calculate metrics\n",
    "predictions = model.predict(X_test)\n",
    "mse = mean_squared_error(y_test, predictions)\n"
   ]
  },
  {
   "cell_type": "code",
   "execution_count": 2,
   "metadata": {},
   "outputs": [
    {
     "name": "stderr",
     "output_type": "stream",
     "text": [
      "\u001b[31m2024/12/16 15:12:37 WARNING mlflow.models.model: Model logged without a signature and input example. Please set `input_example` parameter when logging the model to auto infer the model signature.\u001b[0m\n"
     ]
    },
    {
     "name": "stdout",
     "output_type": "stream",
     "text": [
      "Model logged with MSE: 3009.743970037454\n",
      "🏃 View run placid-slug-7 at: http://localhost:5000/#/experiments/0/runs/afaa0c7b54a3408fa09bc63b1cc75edd\n",
      "🧪 View experiment at: http://localhost:5000/#/experiments/0\n"
     ]
    }
   ],
   "source": [
    "\n",
    "#important !!\n",
    "mlflow.set_tracking_uri('http://localhost:5000')\n",
    "mlflow.set_tracking_uri('http://13.51.140.113:5000/')\n",
    "\n",
    "\n",
    "# Start an MLflow run\n",
    "with mlflow.start_run():\n",
    "\n",
    "    model = RandomForestRegressor(n_estimators=n_estimators, random_state=random_state)\n",
    "    model.fit(X_train, y_train)\n",
    "\n",
    "    # Make predictions and calculate metrics\n",
    "    predictions = model.predict(X_test)\n",
    "    mse = mean_squared_error(y_test, predictions)\n",
    "\n",
    "    mlflow.log_param(\"n_estimators\", n_estimators)\n",
    "    mlflow.log_param(\"random_state\", random_state)\n",
    "    mlflow.log_metric(\"mse\", mse)\n",
    "    mlflow.sklearn.log_model(model, \"model\")\n",
    "    print(f\"Model logged with MSE: {mse}\")\n"
   ]
  },
  {
   "cell_type": "code",
   "execution_count": 3,
   "metadata": {},
   "outputs": [
    {
     "name": "stderr",
     "output_type": "stream",
     "text": [
      "2024/12/16 15:20:06 INFO mlflow.tracking.fluent: Experiment with name 'Diabetes' does not exist. Creating a new experiment.\n",
      "\u001b[31m2024/12/16 15:20:08 WARNING mlflow.models.model: Model logged without a signature and input example. Please set `input_example` parameter when logging the model to auto infer the model signature.\u001b[0m\n"
     ]
    },
    {
     "name": "stdout",
     "output_type": "stream",
     "text": [
      "Model logged with MSE: 3009.743970037454\n",
      "🏃 View run diabetes_RForest_15 at: http://localhost:5000/#/experiments/653027391595642036/runs/445cae9b256341c5b277b80d6d507146\n",
      "🧪 View experiment at: http://localhost:5000/#/experiments/653027391595642036\n"
     ]
    }
   ],
   "source": [
    "experiment_name = \"Diabetes\"\n",
    "mlflow.set_experiment(experiment_name)\n",
    "\n",
    "    \n",
    "with mlflow.start_run(run_name=f\"diabetes_RForest_{n_estimators}\"):\n",
    "\n",
    "    model = RandomForestRegressor(n_estimators=n_estimators, random_state=random_state)\n",
    "    model.fit(X_train, y_train)\n",
    "\n",
    "    # Make predictions and calculate metrics\n",
    "    predictions = model.predict(X_test)\n",
    "    mse = mean_squared_error(y_test, predictions)\n",
    "\n",
    "    mlflow.log_param(\"n_estimators\", n_estimators)\n",
    "    mlflow.log_param(\"random_state\", random_state)\n",
    "    mlflow.log_metric(\"mse\", mse)\n",
    "    mlflow.sklearn.log_model(model, \"model\")\n",
    "    print(f\"Model logged with MSE: {mse}\")\n"
   ]
  },
  {
   "cell_type": "code",
   "execution_count": 12,
   "metadata": {},
   "outputs": [
    {
     "data": {
      "text/html": [
       "<div>\n",
       "<style scoped>\n",
       "    .dataframe tbody tr th:only-of-type {\n",
       "        vertical-align: middle;\n",
       "    }\n",
       "\n",
       "    .dataframe tbody tr th {\n",
       "        vertical-align: top;\n",
       "    }\n",
       "\n",
       "    .dataframe thead th {\n",
       "        text-align: right;\n",
       "    }\n",
       "</style>\n",
       "<table border=\"1\" class=\"dataframe\">\n",
       "  <thead>\n",
       "    <tr style=\"text-align: right;\">\n",
       "      <th></th>\n",
       "      <th>age</th>\n",
       "      <th>sex</th>\n",
       "      <th>bmi</th>\n",
       "      <th>bp</th>\n",
       "      <th>s1</th>\n",
       "      <th>s2</th>\n",
       "      <th>s3</th>\n",
       "      <th>s4</th>\n",
       "      <th>s5</th>\n",
       "      <th>s6</th>\n",
       "    </tr>\n",
       "  </thead>\n",
       "  <tbody>\n",
       "    <tr>\n",
       "      <th>332</th>\n",
       "      <td>0.030811</td>\n",
       "      <td>-0.044642</td>\n",
       "      <td>0.104809</td>\n",
       "      <td>0.076958</td>\n",
       "      <td>-0.011201</td>\n",
       "      <td>-0.011335</td>\n",
       "      <td>-0.058127</td>\n",
       "      <td>0.034309</td>\n",
       "      <td>0.057108</td>\n",
       "      <td>0.036201</td>\n",
       "    </tr>\n",
       "  </tbody>\n",
       "</table>\n",
       "</div>"
      ],
      "text/plain": [
       "          age       sex       bmi        bp        s1        s2        s3  \\\n",
       "332  0.030811 -0.044642  0.104809  0.076958 -0.011201 -0.011335 -0.058127   \n",
       "\n",
       "           s4        s5        s6  \n",
       "332  0.034309  0.057108  0.036201  "
      ]
     },
     "execution_count": 12,
     "metadata": {},
     "output_type": "execute_result"
    }
   ],
   "source": [
    "pd.DataFrame(data['data'], columns=data['feature_names']).sample(1)"
   ]
  },
  {
   "cell_type": "code",
   "execution_count": 6,
   "metadata": {},
   "outputs": [
    {
     "data": {
      "text/plain": [
       "array([ 0.04534098, -0.04464164, -0.00620595, -0.01599898,  0.1250187 ,\n",
       "        0.1251981 ,  0.019187  ,  0.03430886,  0.03243232, -0.0052198 ])"
      ]
     },
     "execution_count": 6,
     "metadata": {},
     "output_type": "execute_result"
    }
   ],
   "source": [
    "X_test[0]"
   ]
  },
  {
   "cell_type": "code",
   "execution_count": 6,
   "metadata": {},
   "outputs": [
    {
     "name": "stderr",
     "output_type": "stream",
     "text": [
      "\u001b[31m2024/12/17 09:50:40 WARNING mlflow.models.model: Model logged without a signature and input example. Please set `input_example` parameter when logging the model to auto infer the model signature.\u001b[0m\n"
     ]
    },
    {
     "name": "stdout",
     "output_type": "stream",
     "text": [
      "🏃 View run wise-dolphin-93 at: http://13.51.140.113:5000/#/experiments/985020413726465322/runs/a3ed7b5b17324fb7af364966f9ad109d\n",
      "🧪 View experiment at: http://13.51.140.113:5000/#/experiments/985020413726465322\n"
     ]
    },
    {
     "data": {
      "image/png": "[encoded data removed]",
      "text/plain": [
       "<Figure size 640x480 with 1 Axes>"
      ]
     },
     "metadata": {},
     "output_type": "display_data"
    }
   ],
   "source": [
    "import matplotlib.pyplot as plt\n",
    "\n",
    "# Simulate metric logging\n",
    "with mlflow.start_run():\n",
    "    for epoch in range(1, 11):\n",
    "        loss = 1 / epoch  # Example loss function\n",
    "        mlflow.log_metric(\"loss\", loss, step=epoch)\n",
    "\n",
    "    # Save and log a plot as an artifact\n",
    "    plt.plot(range(1, 11), [1 / epoch for epoch in range(1, 11)])\n",
    "    plt.title(\"Loss Curve\")\n",
    "    plt.xlabel(\"Epoch\")\n",
    "    plt.ylabel(\"Loss\")\n",
    "    plt.savefig(\"loss_curve.png\")\n",
    "    mlflow.log_artifact(\"loss_curve.png\", artifact_path=\"figure\")\n",
    "    mlflow.sklearn.log_model(model, \"model\")"
   ]
  },
  {
   "cell_type": "code",
   "execution_count": 10,
   "metadata": {},
   "outputs": [],
   "source": [
    "import json\n",
    "with open(\"parametre.json\", \"w\" ) as f:\n",
    "    f.write(str({\"n_estimators\": n_estimators , \"random_state\": random_state ,\"mse\": mse }))\n"
   ]
  },
  {
   "cell_type": "code",
   "execution_count": 11,
   "metadata": {},
   "outputs": [
    {
     "name": "stderr",
     "output_type": "stream",
     "text": [
      "\u001b[31m2024/12/17 09:56:22 WARNING mlflow.models.model: Model logged without a signature and input example. Please set `input_example` parameter when logging the model to auto infer the model signature.\u001b[0m\n"
     ]
    },
    {
     "name": "stdout",
     "output_type": "stream",
     "text": [
      "Model logged with MSE: 3070.8045707865176\n"
     ]
    },
    {
     "name": "stderr",
     "output_type": "stream",
     "text": [
      "/home/mmby/Freelance/mlflow_project/venv/lib/python3.10/site-packages/sklearn/utils/validation.py:2732: UserWarning: X has feature names, but RandomForestRegressor was fitted without feature names\n",
      "  warnings.warn(\n",
      "/home/mmby/Freelance/mlflow_project/venv/lib/python3.10/site-packages/sklearn/utils/validation.py:2732: UserWarning: X has feature names, but RandomForestRegressor was fitted without feature names\n",
      "  warnings.warn(\n"
     ]
    },
    {
     "name": "stdout",
     "output_type": "stream",
     "text": [
      "🏃 View run diabetes_RForest_50 at: http://13.51.140.113:5000/#/experiments/985020413726465322/runs/de4a8a6f05dd4a169c8ae16b4391bc1c\n",
      "🧪 View experiment at: http://13.51.140.113:5000/#/experiments/985020413726465322\n"
     ]
    },
    {
     "name": "stderr",
     "output_type": "stream",
     "text": [
      "\u001b[31m2024/12/17 09:56:39 WARNING mlflow.models.model: Model logged without a signature and input example. Please set `input_example` parameter when logging the model to auto infer the model signature.\u001b[0m\n"
     ]
    },
    {
     "name": "stdout",
     "output_type": "stream",
     "text": [
      "Model logged with MSE: 3068.8356356207637\n"
     ]
    },
    {
     "name": "stderr",
     "output_type": "stream",
     "text": [
      "/home/mmby/Freelance/mlflow_project/venv/lib/python3.10/site-packages/sklearn/utils/validation.py:2732: UserWarning: X has feature names, but RandomForestRegressor was fitted without feature names\n",
      "  warnings.warn(\n",
      "/home/mmby/Freelance/mlflow_project/venv/lib/python3.10/site-packages/sklearn/utils/validation.py:2732: UserWarning: X has feature names, but RandomForestRegressor was fitted without feature names\n",
      "  warnings.warn(\n"
     ]
    },
    {
     "name": "stdout",
     "output_type": "stream",
     "text": [
      "🏃 View run diabetes_RForest_55 at: http://13.51.140.113:5000/#/experiments/985020413726465322/runs/2933bc841b164630ba16f1067fda24a9\n",
      "🧪 View experiment at: http://13.51.140.113:5000/#/experiments/985020413726465322\n"
     ]
    }
   ],
   "source": [
    "experiment_name = \"Diabetes-3\"\n",
    "mlflow.set_experiment(experiment_name)\n",
    "mlflow.set_tracking_uri('http://13.51.140.113:5000/')\n",
    "\n",
    "\n",
    "random_state=500\n",
    "\n",
    "for n_estimators in [50, 55]:\n",
    "    \n",
    "    with mlflow.start_run(run_name=f\"diabetes_RForest_{n_estimators}\"):\n",
    "\n",
    "        model = RandomForestRegressor(n_estimators=n_estimators, random_state=random_state)\n",
    "        model.fit(X_train, y_train)\n",
    "\n",
    "        # Make predictions and calculate metrics\n",
    "        predictions = model.predict(X_test)\n",
    "        mse = mean_squared_error(y_test, predictions)\n",
    "\n",
    "        mlflow.log_param(\"n_estimators\", n_estimators)\n",
    "        mlflow.log_param(\"random_state\", random_state)\n",
    "        mlflow.log_metric(\"mse\", mse)\n",
    "        mlflow.sklearn.log_model(model, \"model\")\n",
    "\n",
    "        with open(\"parametre.json\", \"w\" ) as f:\n",
    "            f.write(str({\"n_estimators\": n_estimators , \"random_state\": random_state ,\"mse\": mse }))\n",
    "\n",
    "        mlflow.log_artifact(\"parametre.json\", artifact_path=\"figure\")\n",
    "\n",
    "\n",
    "        print(f\"Model logged with MSE: {mse}\")\n",
    "\n",
    "        # Log model to MLflow\n",
    "        input_example = pd.DataFrame(data['data'], columns=data['feature_names']).sample(1)\n",
    "        mlflow.sklearn.log_model(sk_model=model, artifact_path='model',input_example=input_example)\n"
   ]
  },
  {
   "cell_type": "code",
   "execution_count": 14,
   "metadata": {},
   "outputs": [
    {
     "name": "stderr",
     "output_type": "stream",
     "text": [
      "/home/mmby/Freelance/mlflow_project/venv/lib/python3.10/site-packages/sklearn/utils/validation.py:2732: UserWarning: X has feature names, but RandomForestRegressor was fitted without feature names\n",
      "  warnings.warn(\n"
     ]
    },
    {
     "data": {
      "text/plain": [
       "array([59.96666667])"
      ]
     },
     "execution_count": 14,
     "metadata": {},
     "output_type": "execute_result"
    }
   ],
   "source": [
    "from mlflow.models import validate_serving_input\n",
    "\n",
    "model_uri = 'runs:/f33e7d4699d6423ba59a5d30252a0cde/model'\n",
    "\n",
    "# The model is logged with an input example. MLflow converts\n",
    "# it into the serving payload format for the deployed model endpoint,\n",
    "# and saves it to 'serving_input_payload.json'\n",
    "serving_payload = \"\"\"{\n",
    "  \"dataframe_split\": {\n",
    "    \"columns\": [\n",
    "      \"age\",\n",
    "      \"sex\",\n",
    "      \"bmi\",\n",
    "      \"bp\",\n",
    "      \"s1\",\n",
    "      \"s2\",\n",
    "      \"s3\",\n",
    "      \"s4\",\n",
    "      \"s5\",\n",
    "      \"s6\"\n",
    "    ],\n",
    "    \"data\": [\n",
    "      [\n",
    "        0.016280675727306498,\n",
    "        0.05068011873981862,\n",
    "        -0.04608500086939666,\n",
    "        0.011543832586488917,\n",
    "        -0.033215875558837024,\n",
    "        -0.016031855130326858,\n",
    "        -0.010266105415242439,\n",
    "        -0.002592261998183278,\n",
    "        -0.04398377252276359,\n",
    "        -0.042498766648810526\n",
    "      ]\n",
    "    ]\n",
    "  }\n",
    "}\"\"\"\n",
    "\n",
    "# Validate the serving payload works on the model\n",
    "validate_serving_input(model_uri, serving_payload)"
   ]
  },
  {
   "cell_type": "code",
   "execution_count": null,
   "metadata": {},
   "outputs": [],
   "source": []
  }
 ],
 "metadata": {
  "kernelspec": {
   "display_name": "Python 3",
   "language": "python",
   "name": "python3"
  },
  "language_info": {
   "codemirror_mode": {
    "name": "ipython",
    "version": 3
   },
   "file_extension": ".py",
   "mimetype": "text/x-python",
   "name": "python",
   "nbconvert_exporter": "python",
   "pygments_lexer": "ipython3",
   "version": "3.10.12"
  }
 },
 "nbformat": 4,
 "nbformat_minor": 2
}
