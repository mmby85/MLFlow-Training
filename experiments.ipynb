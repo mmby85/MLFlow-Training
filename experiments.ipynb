{
 "cells": [
  {
   "cell_type": "code",
   "execution_count": 2,
   "metadata": {},
   "outputs": [
    {
     "name": "stderr",
     "output_type": "stream",
     "text": [
      "\u001b[31m2024/12/16 15:12:37 WARNING mlflow.models.model: Model logged without a signature and input example. Please set `input_example` parameter when logging the model to auto infer the model signature.\u001b[0m\n"
     ]
    },
    {
     "name": "stdout",
     "output_type": "stream",
     "text": [
      "Model logged with MSE: 3009.743970037454\n",
      "🏃 View run placid-slug-7 at: http://localhost:5000/#/experiments/0/runs/afaa0c7b54a3408fa09bc63b1cc75edd\n",
      "🧪 View experiment at: http://localhost:5000/#/experiments/0\n"
     ]
    }
   ],
   "source": [
    "import mlflow\n",
    "import mlflow.sklearn\n",
    "from sklearn.ensemble import RandomForestRegressor\n",
    "from sklearn.metrics import mean_squared_error\n",
    "from sklearn.model_selection import train_test_split\n",
    "from sklearn.datasets import load_diabetes\n",
    "\n",
    "mlflow.set_tracking_uri('http://localhost:5000')\n",
    "\n",
    "# Load data\n",
    "data = load_diabetes()\n",
    "X_train, X_test, y_train, y_test = train_test_split(data.data, data.target, test_size=0.2, random_state=42)\n",
    "\n",
    "# Train a simple model\n",
    "n_estimators=15\n",
    "random_state=32\n",
    "\n",
    "model = RandomForestRegressor(n_estimators=n_estimators, random_state=random_state)\n",
    "model.fit(X_train, y_train)\n",
    "\n",
    "# Make predictions and calculate metrics\n",
    "predictions = model.predict(X_test)\n",
    "mse = mean_squared_error(y_test, predictions)\n",
    "\n",
    "# Start an MLflow run\n",
    "with mlflow.start_run():\n",
    "\n",
    "    model = RandomForestRegressor(n_estimators=n_estimators, random_state=random_state)\n",
    "    model.fit(X_train, y_train)\n",
    "\n",
    "    # Make predictions and calculate metrics\n",
    "    predictions = model.predict(X_test)\n",
    "    mse = mean_squared_error(y_test, predictions)\n",
    "\n",
    "    mlflow.log_param(\"n_estimators\", n_estimators)\n",
    "    mlflow.log_param(\"random_state\", random_state)\n",
    "    mlflow.log_metric(\"mse\", mse)\n",
    "    mlflow.sklearn.log_model(model, \"model\")\n",
    "    print(f\"Model logged with MSE: {mse}\")\n"
   ]
  },
  {
   "cell_type": "code",
   "execution_count": 3,
   "metadata": {},
   "outputs": [
    {
     "name": "stderr",
     "output_type": "stream",
     "text": [
      "2024/12/16 15:20:06 INFO mlflow.tracking.fluent: Experiment with name 'Diabetes' does not exist. Creating a new experiment.\n",
      "\u001b[31m2024/12/16 15:20:08 WARNING mlflow.models.model: Model logged without a signature and input example. Please set `input_example` parameter when logging the model to auto infer the model signature.\u001b[0m\n"
     ]
    },
    {
     "name": "stdout",
     "output_type": "stream",
     "text": [
      "Model logged with MSE: 3009.743970037454\n",
      "🏃 View run diabetes_RForest_15 at: http://localhost:5000/#/experiments/653027391595642036/runs/445cae9b256341c5b277b80d6d507146\n",
      "🧪 View experiment at: http://localhost:5000/#/experiments/653027391595642036\n"
     ]
    }
   ],
   "source": [
    "experiment_name = \"Diabetes\"\n",
    "mlflow.set_experiment(experiment_name)\n",
    "\n",
    "    \n",
    "with mlflow.start_run(run_name=f\"diabetes_RForest_{n_estimators}\"):\n",
    "\n",
    "    model = RandomForestRegressor(n_estimators=n_estimators, random_state=random_state)\n",
    "    model.fit(X_train, y_train)\n",
    "\n",
    "    # Make predictions and calculate metrics\n",
    "    predictions = model.predict(X_test)\n",
    "    mse = mean_squared_error(y_test, predictions)\n",
    "\n",
    "    mlflow.log_param(\"n_estimators\", n_estimators)\n",
    "    mlflow.log_param(\"random_state\", random_state)\n",
    "    mlflow.log_metric(\"mse\", mse)\n",
    "    mlflow.sklearn.log_model(model, \"model\")\n",
    "    print(f\"Model logged with MSE: {mse}\")\n"
   ]
  }
 ],
 "metadata": {
  "kernelspec": {
   "display_name": "Python 3",
   "language": "python",
   "name": "python3"
  },
  "language_info": {
   "codemirror_mode": {
    "name": "ipython",
    "version": 3
   },
   "file_extension": ".py",
   "mimetype": "text/x-python",
   "name": "python",
   "nbconvert_exporter": "python",
   "pygments_lexer": "ipython3",
   "version": "3.10.12"
  }
 },
 "nbformat": 4,
 "nbformat_minor": 2
}
